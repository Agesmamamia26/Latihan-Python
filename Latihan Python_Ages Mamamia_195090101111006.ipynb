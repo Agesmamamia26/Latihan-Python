{
 "cells": [
  {
   "cell_type": "code",
   "execution_count": 1,
   "id": "6129b92b-c059-4901-b493-3fb6ddb6cc75",
   "metadata": {},
   "outputs": [
    {
     "name": "stdout",
     "output_type": "stream",
     "text": [
      "b'<?xml version=\"1.0\" encoding=\"UTF-8\" ?>\\n<!DOCTYPE eInfoResult PUBLIC \"-//NLM//DTD einfo 20190110//EN\" \"https://eutils.ncbi.nlm.nih.gov/eutils/dtd/20190110/einfo.dtd\">\\n<eInfoResult>\\n<DbList>\\n\\n\\t<DbName>pubmed</DbName>\\n\\t<DbName>protein</DbName>\\n\\t<DbName>nuccore</DbName>\\n\\t<DbName>ipg</DbName>\\n\\t<DbName>nucleotide</DbName>\\n\\t<DbName>structure</DbName>\\n\\t<DbName>genome</DbName>\\n\\t<DbName>annotinfo</DbName>\\n\\t<DbName>assembly</DbName>\\n\\t<DbName>bioproject</DbName>\\n\\t<DbName>biosample</DbName>\\n\\t<DbName>blastdbinfo</DbName>\\n\\t<DbName>books</DbName>\\n\\t<DbName>cdd</DbName>\\n\\t<DbName>clinvar</DbName>\\n\\t<DbName>gap</DbName>\\n\\t<DbName>gapplus</DbName>\\n\\t<DbName>grasp</DbName>\\n\\t<DbName>dbvar</DbName>\\n\\t<DbName>gene</DbName>\\n\\t<DbName>gds</DbName>\\n\\t<DbName>geoprofiles</DbName>\\n\\t<DbName>homologene</DbName>\\n\\t<DbName>medgen</DbName>\\n\\t<DbName>mesh</DbName>\\n\\t<DbName>ncbisearch</DbName>\\n\\t<DbName>nlmcatalog</DbName>\\n\\t<DbName>omim</DbName>\\n\\t<DbName>orgtrack</DbName>\\n\\t<DbName>pmc</DbName>\\n\\t<DbName>popset</DbName>\\n\\t<DbName>proteinclusters</DbName>\\n\\t<DbName>pcassay</DbName>\\n\\t<DbName>protfam</DbName>\\n\\t<DbName>biosystems</DbName>\\n\\t<DbName>pccompound</DbName>\\n\\t<DbName>pcsubstance</DbName>\\n\\t<DbName>seqannot</DbName>\\n\\t<DbName>snp</DbName>\\n\\t<DbName>sra</DbName>\\n\\t<DbName>taxonomy</DbName>\\n\\t<DbName>biocollections</DbName>\\n\\t<DbName>gtr</DbName>\\n</DbList>\\n\\n</eInfoResult>\\n'\n"
     ]
    }
   ],
   "source": [
    "from Bio import Entrez\n",
    "Entrez.email = \"mamamiaages@gmail.com\" #Mandatory! Can be replaced with your personal email.\n",
    "\n",
    "#creating handle\n",
    "handle = Entrez.einfo() #invoking Bio.Entrez.einfo()\n",
    "print(handle.read())\n",
    "handle.close() #always close your handle after you finish\n"
   ]
  },
  {
   "cell_type": "code",
   "execution_count": 2,
   "id": "254a58dd-4fc3-4ffc-b838-aedd37ba96af",
   "metadata": {},
   "outputs": [
    {
     "name": "stdout",
     "output_type": "stream",
     "text": [
      "{'Count': '32', 'RetMax': '20', 'RetStart': '0', 'IdList': ['73698268', '159906559', '73698272', '73698270', '51242938', '51242936', '51242934', '51242932', '51242930', '51242928', '51242926', '51242924', '51242922', '51242920', '51242918', '306959051', '306959049', '306959047', '306959045', '306959043'], 'TranslationSet': [{'From': 'Equine', 'To': '\"Equus caballus\"[Organism] OR Equine[All Fields]'}], 'TranslationStack': [{'Term': '\"Equus caballus\"[Organism]', 'Field': 'Organism', 'Count': '537134', 'Explode': 'Y'}, {'Term': 'Equine[All Fields]', 'Field': 'All Fields', 'Count': '531017', 'Explode': 'N'}, 'OR', 'GROUP', {'Term': 'rhinitis[All Fields]', 'Field': 'All Fields', 'Count': '5993', 'Explode': 'N'}, 'AND', {'Term': 'p1[All Fields]', 'Field': 'All Fields', 'Count': '9410457', 'Explode': 'N'}, 'AND', 'GROUP'], 'QueryTranslation': '(\"Equus caballus\"[Organism] OR Equine[All Fields]) AND rhinitis[All Fields] AND p1[All Fields]'}\n"
     ]
    }
   ],
   "source": [
    "from Bio import Entrez\n",
    "Entrez.email = \"mamamiaages@gmail.com\" #Mandatory! Can be replaced with your personal email.\n",
    "#creating handle\n",
    "handle = Entrez.esearch(db=\"nuccore\", term=\"Equine rhinitis p1\")\n",
    "record = Entrez.read(handle)\n",
    "print(record)\n",
    "handle.close() #always close your handle after you finish\n"
   ]
  },
  {
   "cell_type": "code",
   "execution_count": 3,
   "id": "a823fa2f-f14b-43f7-9837-c623ad136b2b",
   "metadata": {},
   "outputs": [
    {
     "name": "stdout",
     "output_type": "stream",
     "text": [
      "LOCUS       AF347678                2352 bp    RNA     linear   VRL 21-JUL-2016\n",
      "DEFINITION  Equine rhinitis A virus isolate P1316/92 P1 (P1) gene, partial cds.\n",
      "ACCESSION   AF347678\n",
      "VERSION     AF347678.1\n",
      "KEYWORDS    .\n",
      "SOURCE      Equine rhinitis A virus\n",
      "  ORGANISM  Equine rhinitis A virus\n",
      "            Viruses; Riboviria; Orthornavirae; Pisuviricota; Pisoniviricetes;\n",
      "            Picornavirales; Picornaviridae; Aphthovirus.\n",
      "REFERENCE   1  (bases 1 to 2352)\n",
      "  AUTHORS   Varrasso,A., Drummer,H.E., Huang,J., Stevenson,R.A., Ficorilli,N.,\n",
      "            Studdert,M.J. and Hartley,C.A.\n",
      "  TITLE     Sequence conservation and antigenic variation of the structural\n",
      "            proteins equine rhinitis virus A isolates\n",
      "  JOURNAL   Unpublished\n",
      "REFERENCE   2  (bases 1 to 2352)\n",
      "  AUTHORS   Varrasso,A., Drummer,H.E., Huang,J., Stevenson,R.A., Ficorilli,N.,\n",
      "            Studdert,M.J. and Hartley,C.A.\n",
      "  TITLE     Direct Submission\n",
      "  JOURNAL   Submitted (09-FEB-2001) School of Veterinary Science, University of\n",
      "            Melbourne, Cnr. Park Drive and Flemington Roads, Parkville,\n",
      "            Victoria 3010, Australia\n",
      "FEATURES             Location/Qualifiers\n",
      "     source          1..2352\n",
      "                     /organism=\"Equine rhinitis A virus\"\n",
      "                     /mol_type=\"genomic RNA\"\n",
      "                     /isolate=\"P1316/92\"\n",
      "                     /db_xref=\"taxon:47000\"\n",
      "                     /country=\"Switzerland\"\n",
      "     gene            <1..>2352\n",
      "                     /gene=\"P1\"\n",
      "     CDS             <1..>2352\n",
      "                     /gene=\"P1\"\n",
      "                     /codon_start=1\n",
      "                     /product=\"P1\"\n",
      "                     /protein_id=\"AAK52738.1\"\n",
      "                     /translation=\"GAGTSTPTTGNQNMSGNSGSIVQNFYMQQYQNSIDADLGDNVIS\n",
      "                     PEGQGSNTSSSTSSSQSTGLGGWFSSLLNLGTKLLADKKTEETTNIEDRIETTVVGVT\n",
      "                     IINSQGSVGTTYCYSKPDSKAPSTVSDPVTRLGPTLSRHYTFKVGEWPHSQSHGHAWI\n",
      "                     CPLPGDKLKKMGSFHEVVKAHHLVKNGWDVVVQVNASFAHSGALCVAAVPEYEHTHER\n",
      "                     ALKWSELEEPAYTYQQLSVFPHQLLNLRTNSSVHLVMPYIGPGPTTNLTLHNPWTVVI\n",
      "                     LILSELTGPGQTVPVTMSVAPIDAMVNGPLPNPEAPIRVVSVPESDSFMSSVPDNSTP\n",
      "                     LYPKVVVPPRQVPVRFTNFIDVAKQTYSFCSISGKPYFEVTNTSGDEPLFQMDVSLSA\n",
      "                     AELHGTYVASLSSFFAQYRGSLNFNFIFTGAAATKAKFLVAFVPPHTAAPKTRDEAMA\n",
      "                     CIHAVWDVGLNSAFSFNVPYSSPADFMAVYSTEATVVNVSGWLQVYALTALTSTDIAV\n",
      "                     NSKGRVLVAVSAGPDFSLRHPVDLPDKQVTNVGEDGEPGETEPRYALSPVDMHVHTDV\n",
      "                     SFLLDRFFDVETLELSNLTGSPATHVLDPFGSTAQLAWARLLNTSTYFFSDLELSIQF\n",
      "                     KFTTTPSSVGEGFVWVKWFPVGAPTKTSDAWQLSGGGNSVRIQKLAVAGLSPTVVFKI\n",
      "                     AGSRSQACGFNVPYTSMWRVIPVFYNGWGAPTKEKSTYNWLPGAHFGSILLTSDAHDK\n",
      "                     GGCYLRYRFPRASMYCPRPIPPAFTRPADKTRHKFPTNINKQCT\"\n",
      "ORIGIN      \n",
      "        1 ggtgcgggaa cctctacccc caccacagga aaccaaaaca tgtctggaaa cagtggttct\n",
      "       61 attgtccaaa atttttacat gcagcaatac caaaactcaa ttgatgctga cttgggagac\n",
      "      121 aacgtcatta gtccagaagg gcagggcagc aatacaagca gttcaacttc ttccagtcag\n",
      "      181 tccactggtt tgggtggttg gttttccagc ctcctgaatc ttggaaccaa gcttttggcc\n",
      "      241 gacaagaaaa cagaggaaac cacaaacatt gaggacagaa tagagacaac cgtggttggg\n",
      "      301 gttactataa ttaactccca gggctctgtt ggcacaacat attgttattc caagccagac\n",
      "      361 tcaaaagcac cctccacagt gtcagatcca gtcacacgct tgggacctac attgtccaga\n",
      "      421 cactatacct tcaaggtggg cgagtggcca cactcacagt cgcatggaca tgcgtggatc\n",
      "      481 tgccctttac ctggtgacaa gttgaagaag atgggcagtt tccacgaggt ggtcaaggca\n",
      "      541 catcacctag tcaagaatgg atgggatgtg gtcgtccagg tcaatgcctc atttgcgcac\n",
      "      601 tcaggtgcgc tttgcgtggc ggctgtacca gagtacgaac acacacatga gagggctctt\n",
      "      661 aaatggtctg agttggagga acccgcctac acctaccagc agctttcagt ttttccacac\n",
      "      721 caattgctaa atttgaggac aaattcatca gtgcatctgg tcatgcccta tattgggcca\n",
      "      781 gggcctacta ccaatttgac tcttcacaac ccatggacag ttgtaatttt gattttgtct\n",
      "      841 gaattgactg ggcctggtca aacagtgccc gtgaccatgt cggtggcacc catcgatgca\n",
      "      901 atggtcaacg ggcctctgcc aaacccagag gcgccgatcc gtgtggtgtc ggtgcccgaa\n",
      "      961 tcagattcat ttatgtcatc tgttccagac aattctacac cactttaccc caaagttgtg\n",
      "     1021 gttcccccgc ggcaagtgcc ggtgcggttt actaatttca ttgatgtggc aaaacaaaca\n",
      "     1081 tactcttttt gctcaatttc aggcaagccc tactttgagg ttaccaacac atctggtgac\n",
      "     1141 gagcctttgt ttcagatgga tgtgtctctc agcgctgctg agctgcacgg gacatatgtt\n",
      "     1201 gccagtttgt catcattttt tgcacagtac agaggctcac ttaactttaa cttcattttc\n",
      "     1261 actggcgcgg ccgccaccaa ggccaaattt ctggtggcgt ttgtgccccc tcacacagcc\n",
      "     1321 gcgccaaaga cgcgtgatga ggctatggca tgcatccacg cagtgtggga tgttggtctg\n",
      "     1381 aattctgcat tttcttttaa tgtcccatac tcctcaccag ctgacttcat ggctgtttac\n",
      "     1441 tcgactgagg cgacagtcgt gaatgtctcc gggtggcttc aggtttatgc tttgactgcc\n",
      "     1501 ttaacatcaa ctgacattgc tgtcaacagc aaagggcgcg tcctggttgc agtttcggct\n",
      "     1561 ggtcctgact tttctctccg ccatccggtc gacttgcctg acaagcaggt caccaacgtt\n",
      "     1621 ggagaggacg gtgagcccgg cgagactgag ccacgatacg ccctgtcgcc tgtggatatg\n",
      "     1681 catgtgcaca cagatgtttc ttttctgttg gaccggtttt ttgatgtgga gacattagaa\n",
      "     1741 ctttcaaatt tgactggttc acctgccact catgtgctcg acccgtttgg gtctactgcc\n",
      "     1801 cagttggcct gggccagact tctgaacact tccacatact tcttttctga tttggagctt\n",
      "     1861 tctattcagt tcaagtttac tactactccc tcttcagttg gtgagggttt tgtttgggtt\n",
      "     1921 aaatggtttc ctgttggggc accaaccaag acgtcagacg cctggcagtt gagtggcggt\n",
      "     1981 ggcaattcag tgagaattca gaaattggct gttgcgggat tgtcccctac cgttgtgttt\n",
      "     2041 aagattgcag ggtcgcgctc acaagcctgc ggcttcaatg tgccgtacac ttccatgtgg\n",
      "     2101 cgcgtgatcc ccgttttcta caacggttgg ggagccccta caaaagaaaa atctacttac\n",
      "     2161 aattggcttc ctggtgccca ttttggttca attttgctca cttcagatgc acatgacaag\n",
      "     2221 ggcggttgct acctccggta ccgatttccc cgagctagca tgtattgccc gaggcctatt\n",
      "     2281 cctccggctt ttacccgccc agcagacaag accaggcaca aatttccaac taacattaat\n",
      "     2341 aaacaatgca ct\n",
      "//\n",
      "\n",
      "\n"
     ]
    }
   ],
   "source": [
    "from Bio import Entrez\n",
    "Entrez.email = \"mamamiaages@gmail.com\" #Mandatory! Can be replaced with your personal email.\n",
    "#creating EFetch handle\n",
    "efetch_handle = Entrez.efetch(db=\"nuccore\", id=\"14029564\", rettype=\"gb\", retmode=\"text\")\n",
    "gbrecord = efetch_handle.read()\n",
    "print(gbrecord)\n"
   ]
  },
  {
   "cell_type": "code",
   "execution_count": 4,
   "id": "5c8a5229-2883-4aba-8aac-0270dd9ebe75",
   "metadata": {},
   "outputs": [
    {
     "name": "stdout",
     "output_type": "stream",
     "text": [
      "FASTA Download\n"
     ]
    }
   ],
   "source": [
    "import os # import os module for OS utilities\n",
    "from Bio import Entrez\n",
    "Entrez.email = \"mamamiaages@gmail.com\" #Mandatory! Can be replaced with your personal email.\n",
    "#creating EFetch handle\n",
    "filename = \"Equine rhinitis P1.fasta\" #up to you, but FASTA files always use *.fasta or *.fas \n",
    "\n",
    "#creating EFetch handle\n",
    "if not os.path.isfile(filename):\n",
    "    # Downloading file...\n",
    "     efetch_handle = Entrez.efetch(db=\"nuccore\", id=\"14029564\", rettype=\"fasta\", retmode=\"text\")\n",
    "     output_file_handle = open(filename, \"w\")\n",
    "     output_file_handle.write(efetch_handle.read())\n",
    "     output_file_handle.close()\n",
    "     efetch_handle.close()\n",
    "print (\"FASTA Download\")\n"
   ]
  },
  {
   "cell_type": "code",
   "execution_count": 5,
   "id": "88a8f6c7-b561-4dee-8d88-27a988edc3fc",
   "metadata": {},
   "outputs": [
    {
     "name": "stdout",
     "output_type": "stream",
     "text": [
      "GB Download\n"
     ]
    }
   ],
   "source": [
    "import os # import os module for OS utilities\n",
    "from Bio import Entrez\n",
    "Entrez.email = \"mamamiaages@gmail.com\" #Mandatory! Can be replaced with your personal email.\n",
    "#creating EFetch handle\n",
    "filename = \"Equine rhinitis complete genome.gbk\" #up to you, but Genbank files always use *.gb or *.gbk \n",
    "\n",
    "#creating EFetch handle\n",
    "if not os.path.isfile(filename):\n",
    "    # Downloading file...\n",
    "     efetch_handle = Entrez.efetch(db=\"nuccore\", id=\"15192761\", rettype=\"gb\", retmode=\"text\")\n",
    "     output_file_handle = open(filename, \"w\")\n",
    "     output_file_handle.write(efetch_handle.read())\n",
    "     output_file_handle.close()\n",
    "     efetch_handle.close()\n",
    "print (\"GB Download\")\n"
   ]
  },
  {
   "cell_type": "code",
   "execution_count": 6,
   "id": "698d09bc-01a1-4ac3-b396-ee0c1074df83",
   "metadata": {},
   "outputs": [
    {
     "name": "stdout",
     "output_type": "stream",
     "text": [
      ">P1|Equine rhinovirus 3 strain P313/75, complete genome\n",
      "GGTGCTCCCTACCAGATACCCCAGATTTACCCGTTACCCTAAAATTCCCTCCCCTTTCTCTTCACTCGCCGAGGCCACGCCGAGTAGGACCGAGGGTACAGCGAGTCTTTTAGTTTAAGGTGTTAGATGTAAGGTACGTGGGCTTTCTTTTGGTTTACTTCTTC\n"
     ]
    }
   ],
   "source": [
    "from Bio import SeqIO\n",
    "\n",
    "GoI = \"P1\"\n",
    "\n",
    "for genome in SeqIO.parse(\"Equine rhinitis complete genome.gbk\",\"genbank\"):\n",
    "    for gene in genome.features:\n",
    "        if gene.type != \"CDS\":\n",
    "            continue\n",
    "        if \"gene\" not in gene.qualifiers:\n",
    "            continue\n",
    "        if GoI not in gene.qualifiers[\"gene\"][0]: \n",
    "            continue\n",
    "    gene_seq = gene.extract(genome.seq)\n",
    "\n",
    "GoI_fasta = \">%s|%s\\n%s\" % (GoI, genome.description, gene_seq)\n",
    "print(GoI_fasta)\n"
   ]
  },
  {
   "cell_type": "code",
   "execution_count": 7,
   "id": "c88495a7-c51d-49da-a413-e018f723a869",
   "metadata": {},
   "outputs": [],
   "source": [
    "from Bio import SeqIO\n",
    "\n",
    "GoI = \"P1\"\n",
    "\n",
    "for genome in SeqIO.parse(\"Equine rhinitis complete genome.gbk\",\"genbank\"):\n",
    "    for gene in genome.features:\n",
    "        if gene.type != \"CDS\":\n",
    "            continue\n",
    "        if \"gene\" not in gene.qualifiers:\n",
    "            continue\n",
    "        if GoI not in gene.qualifiers[\"gene\"][0]: \n",
    "            continue\n",
    "    gene_seq = gene.extract(genome.seq)\n",
    "\n",
    "GoI_fasta = \">%s|%s\\n%s\" % (GoI, genome.description, gene_seq)\n",
    "with open(\"GoI_fasta.fasta\",\"w\") as f:    \n",
    "    f.write(GoI_fasta)\n"
   ]
  },
  {
   "cell_type": "code",
   "execution_count": null,
   "id": "53e89a84-9377-476c-8263-2d9099c720b8",
   "metadata": {},
   "outputs": [],
   "source": []
  }
 ],
 "metadata": {
  "kernelspec": {
   "display_name": "Python 3 (ipykernel)",
   "language": "python",
   "name": "python3"
  },
  "language_info": {
   "codemirror_mode": {
    "name": "ipython",
    "version": 3
   },
   "file_extension": ".py",
   "mimetype": "text/x-python",
   "name": "python",
   "nbconvert_exporter": "python",
   "pygments_lexer": "ipython3",
   "version": "3.9.7"
  }
 },
 "nbformat": 4,
 "nbformat_minor": 5
}
